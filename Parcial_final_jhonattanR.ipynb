{
 "cells": [
  {
   "cell_type": "markdown",
   "id": "ca4105c6",
   "metadata": {},
   "source": [
    "# Objetivo\n",
    "\n",
    "Desarrollo Parcial practico - Aprendizaje automatico III - ICESI"
   ]
  },
  {
   "cell_type": "markdown",
   "id": "394aa8e8",
   "metadata": {},
   "source": [
    "# Instrucciones\n",
    "El examen se compone de dos partes:\n",
    "- La primera corresponde a una parte de selección múltiple con 19 preguntas que se responderán en el salón de clase en 45 minutos. Esa primera parte tiene una calificación de 1 a 5.\n",
    "- La segunda parte corresponde a la parte práctica del examen y tiene también una calificación de 1 a 5.\n",
    "\n",
    "- La nota de este examen parcial corresponderá al promedio ponderado de las dos notas, donde la parte práctica tiene un peso de 40 % y la parte de selección múltiple de 60 %.\n",
    "- Usted tiene hasta el 30 de junio a las 23:59  para enviar los archivos por correo, estos archivos deben tener su nombre.\n",
    "- Sólo se calificaran exámenes en formato pdf. Cualquier otro formato no será tenido en cuenta.\n",
    "- El examen debe estar acompañado de un notebook (ipynb)  que incluya todo los códigos de python que se emplean para obtener sus resultados.\n",
    "- El nombre del archivo debe tener su nombre. No se recibirán archivos en otro formato.\n",
    "- Esta parte del examen es para realizar en casa y debe reflejar el trabajo individual.\n",
    "\n",
    "## El Problema\n",
    "\n",
    "En días recientes trabajamos con una compañía de comestibles que estaba interesada en predecir el comportamiento de las ventas (en unidades) de sus dos productos estrella. Fuimos contratados para generar un modelo que permita pronosticar las ventas del siguiente mes de cada uno de esos dos productos. La base de datos disponible en el archivo Examen.csv tiene la información de cada uno de los productos desde junio de 2014.\n",
    "\n",
    "Su misión es encontrar el mejor modelo para pronosticar cada una de las series. Usted debe entregar un informe escrito de no más de cuatro páginas que presente los resultados al cliente y cuente el proceso para llegar a los pronósticos. Vea las instrucciones para asegurar que entrega los archivos requeridos"
   ]
  },
  {
   "cell_type": "markdown",
   "id": "1d552955",
   "metadata": {},
   "source": [
    "# Lectura de paquetes"
   ]
  },
  {
   "cell_type": "code",
   "execution_count": null,
   "id": "cc9fddaf",
   "metadata": {},
   "outputs": [],
   "source": [
    "import logging\n",
    "\n",
    "import pandas as pd\n",
    "import numpy as np\n",
    "from matplotlib import pyplot as plt  # gráficos\n",
    "import pylab as py\n",
    "from scipy import stats\n",
    "from datetime import datetime\n",
    "from dateutil.relativedelta import relativedelta\n",
    "\n",
    "from sklearn.metrics import mean_absolute_percentage_error, mean_squared_error\n",
    "\n",
    "import optuna\n",
    "\n",
    "from statsmodels.tsa.arima.model import ARIMA\n",
    "from statsmodels.tsa.seasonal import STL\n",
    "from statsmodels.tsa.exponential_smoothing.ets import ETSModel\n",
    "from statsmodels.tsa.holtwinters import ExponentialSmoothing\n",
    "from statsmodels.graphics.tsaplots import plot_acf, plot_pacf\n",
    "from statsmodels.stats.diagnostic import acorr_ljungbox, het_arch\n",
    "from statsmodels.stats.stattools import jarque_bera\n",
    "from scipy.stats import shapiro\n",
    "import statsmodels.api as sm\n",
    "\n",
    "import warnings\n",
    "\n",
    "warnings.filterwarnings(\"ignore\", category=UserWarning)\n",
    "warnings.filterwarnings(\"ignore\", category=RuntimeWarning)\n",
    "warnings.filterwarnings(\"ignore\", category=FutureWarning)\n",
    "optuna.logging.set_verbosity(logging.WARNING)  # Solo muestra warnings o errores\n",
    "\n",
    "\n",
    "from src.ml_utils import *\n",
    "from src.plot_utils import *\n",
    "\n",
    "# colocar estilo fondo blanco\n",
    "plt.style.use(\"default\")"
   ]
  },
  {
   "cell_type": "markdown",
   "id": "8b61fece",
   "metadata": {},
   "source": [
    "# Lectura de data"
   ]
  },
  {
   "cell_type": "code",
   "execution_count": null,
   "id": "9c386a27",
   "metadata": {},
   "outputs": [],
   "source": [
    "df = pd.read_csv(\"Examen.csv\").iloc[:,1:]\n",
    "\n",
    "# Crear un rango de fechas mensuales desde junio 2014 por 127 meses\n",
    "fechas = pd.date_range(start=\"2014-06-01\", periods=127, freq=\"MS\")\n",
    "df.index = fechas\n",
    "df.index.name = \"fecha\"\n"
   ]
  },
  {
   "cell_type": "code",
   "execution_count": null,
   "id": "79ae4490",
   "metadata": {},
   "outputs": [],
   "source": [
    "df.info()"
   ]
  },
  {
   "cell_type": "markdown",
   "id": "9ab2b172",
   "metadata": {},
   "source": [
    "# Analisis Exploratorio (EDA)"
   ]
  },
  {
   "cell_type": "code",
   "execution_count": null,
   "id": "f2eaae13",
   "metadata": {},
   "outputs": [],
   "source": [
    "plt.figure(figsize=(13,5))\n",
    "plt.subplot(1,2,1)\n",
    "df[\"producto1\"].plot()\n",
    "plt.title(\"Producto 1\")\n",
    "plt.ylabel(\"Ventas (unidades)\")\n",
    "plt.xticks(rotation=45)\n",
    "plt.grid()\n",
    "\n",
    "plt.subplot(1,2,2)\n",
    "df[\"producto2\"].plot()\n",
    "plt.title(\"Producto 2\")\n",
    "plt.ylabel(\"Ventas (unidades)\")\n",
    "plt.xticks(rotation=45)\n",
    "plt.grid()"
   ]
  },
  {
   "cell_type": "markdown",
   "id": "3167f23d",
   "metadata": {},
   "source": [
    "## Descomposición STL"
   ]
  },
  {
   "cell_type": "code",
   "execution_count": null,
   "id": "6ede18ee",
   "metadata": {},
   "outputs": [],
   "source": [
    "# Descomposición STL de ambas series\n",
    "\n",
    "stl_producto1 = STL(df[\"producto1\"], seasonal=13)\n",
    "stl_producto2 = STL(df[\"producto2\"], seasonal=13)\n",
    "result_producto1 = stl_producto1.fit()\n",
    "result_producto2 = stl_producto2.fit()\n",
    "\n",
    "df[\"producto1_trend\"] = result_producto1.trend\n",
    "df[\"producto1_seasonal\"] = result_producto1.seasonal\n",
    "df[\"producto2_trend\"] = result_producto2.trend\n",
    "df[\"producto2_seasonal\"] = result_producto2.seasonal\n",
    "\n",
    "# graficar usando plotly\n",
    "graficar_serie_con_descomposicion(df, \"producto #1\", \"producto1\")\n",
    "graficar_serie_con_descomposicion(df, \"producto #2\", \"producto2\")"
   ]
  },
  {
   "cell_type": "markdown",
   "id": "48270b87",
   "metadata": {},
   "source": [
    "- No se nota con claridad efectos estacionales.  \n",
    "- Podemos notar una clara y marcada tendencia en ambas series de productos."
   ]
  },
  {
   "cell_type": "markdown",
   "id": "96b2a5c3",
   "metadata": {},
   "source": [
    "# Planeación\n",
    "\n",
    "Para dar solución a lo solicitado, procederé con los siguientes pasos y aspectos a tener en cuenta:\n",
    "- Se empleará una estrategia de selección de modelos jerarquica, dividida en 3 pasos o filtros. El primer paso será \"evaluación\", luego \"validación\" y por ultimo \"test final\".\n",
    "- Para todo el proceso de ajuste y selección de modelos, usaré solo los ultimos 6 años de los datos, dado que, las series presentan cambios a lo largo del tiempo.\n",
    "- Para el paso de evaluación de modelos se usarán los primeros 6 meses del ultimo año de la data. Para la validación usaré del mes #7 al #10 del ultimo año y para el test final usaré los ultimos 2 meses.\n",
    "-  En el paso de evaluación se filtrarán los 20 mejores modelos obtenidos, que si lo requieren, tambien cumplan los supuestos. En el paso de validación se filtrará a los mejores 3 modelos por serie y para el test final, se probarán alternativas de unión de predicciones junto a los mejores 3 modelos, para elegir la estrategia o modelo ganador.\n",
    "- Para el calculo de metricas, usaré una ventana movil con calculos mes a mes, dado que, en la practica asi desea hacer las predicciones el cliente.\n",
    "- Se usarán estrategias de optimización para identificar las mejores combinaciones de hiperparametros para los modelos, tales como, gridsearch y optuna.\n",
    "- Las familias de modelos y estrategias de optimización que se emplearán son: Modelos de suavización exponencial (Optuna), modelos ARIMA (gridsearch y validación de supuestos), Promedio movil (de 2 a 12), Regresión lineal multiple con estacionalidad de 12 meses (Grado 1 a grado 5, y validación de supuestos), Prophet (Optuna).\n",
    "- Para evitar overfitting se utilizarán estrategias de validación cruzada, y de minimización de diferencias entre metricas en el conjunto de entrenamiento y el conjunto sobre el que se esté prediciendo.\n",
    "- Por ultimo, Las metricas que se usarán para cuantificar el desempeño de los modelos serán MAPE, RMSE y R2."
   ]
  },
  {
   "cell_type": "markdown",
   "id": "4621ba8a",
   "metadata": {},
   "source": [
    "# Preparación de la data (FE)"
   ]
  },
  {
   "cell_type": "code",
   "execution_count": null,
   "id": "3a9819f3",
   "metadata": {},
   "outputs": [],
   "source": [
    "# Data para paso de evaluación - desde 6 años atras hasta 6 meses antes del final\n",
    "df_evaluacion = df.iloc[-1*(6*12):-6, 0:2].copy()\n",
    "df_producto1_evaluacion = df_evaluacion[\"producto1\"].copy()\n",
    "df_producto2_evaluacion = df_evaluacion[\"producto2\"].copy()\n",
    "\n",
    "# Data para paso de validación - desde 6 meses antes del final hasta 2 meses antes del final\n",
    "df_validacion = df.iloc[-1*(6*12):-2, 0:2].copy()\n",
    "df_producto1_validacion = df_validacion[\"producto1\"].copy()\n",
    "df_producto2_validacion = df_validacion[\"producto2\"].copy()\n",
    "\n",
    "# Data para paso de test - ultimos 2 meses\n",
    "df_test = df.iloc[-2:, 0:2].copy()\n",
    "df_producto1_test = df_test[\"producto1\"].copy()\n",
    "df_producto2_test = df_test[\"producto2\"].copy()"
   ]
  },
  {
   "cell_type": "code",
   "execution_count": null,
   "id": "518fe431",
   "metadata": {},
   "outputs": [],
   "source": [
    "print(\"Tamaño de data de evaluacion, validación y test:\")\n",
    "df_producto1_evaluacion.shape,df_producto2_evaluacion.shape, df_producto1_validacion.shape, df_producto2_validacion.shape, df_producto1_test.shape, df_producto2_test.shape"
   ]
  },
  {
   "cell_type": "markdown",
   "id": "bb9703df",
   "metadata": {},
   "source": [
    "# 1. Evaluación inicial de modelos\n",
    "\n",
    "En esta primera etapa, realizaré un primer filtro de los mejores 20 modelos validos y utiles para los dos productos, realizando busqueda u optimización de los mejores parametros de los modelos.  \n",
    "Además, realizaré validación de supuestos sobre el error, para modelos ARIMA y RLM implementados con el objetivo de filtrar aquellos validos."
   ]
  },
  {
   "cell_type": "markdown",
   "id": "320f3ec0",
   "metadata": {},
   "source": [
    "## ETS models"
   ]
  },
  {
   "cell_type": "markdown",
   "id": "331a4173",
   "metadata": {},
   "source": [
    "### producto 1"
   ]
  },
  {
   "cell_type": "code",
   "execution_count": null,
   "id": "729a2274",
   "metadata": {},
   "outputs": [],
   "source": [
    "# Inicializamos parametros para evaluación por ventana recursiva (expansiva)\n",
    "test_init = \"2024-01-01\"\n",
    "test_finish = \"2024-06-01\"\n",
    "window_type = \"rolling\"\n",
    "train_size = (12*5) # 5 años\n",
    "test_size = 1\n",
    "metric = \"rmse\"\n",
    "\n",
    "# Optimizamos el modelo ETS usando Optuna\n",
    "study, best_params, rmse_movil = optimizar_modelo_ets(\n",
    "    df_producto1_evaluacion,\n",
    "    test_init,\n",
    "    test_finish,\n",
    "    window_type,\n",
    "    train_size,\n",
    "    test_size,\n",
    "    metric,\n",
    "    opt_trial=500,\n",
    ")"
   ]
  },
  {
   "cell_type": "code",
   "execution_count": null,
   "id": "4bd5c64e",
   "metadata": {},
   "outputs": [],
   "source": [
    "ets_prod1_results = study.trials_dataframe()\n",
    "ets_prod1_results.sort_values(by=\"value\", ascending=True, inplace=True)\n",
    "ets_prod1_results = ets_prod1_results[\n",
    "    [\n",
    "        \"value\",\n",
    "        \"params_trend\",\n",
    "        \"params_seasonal\",\n",
    "        \"params_seasonal_periods\",\n",
    "        \"params_damped_trend\",\n",
    "        \"params_use_box_cox\",\n",
    "        \"params_smoothing_level\",\n",
    "        \"params_smoothing_trend\",\n",
    "        \"params_smoothing_seasonal\",\n",
    "        \"params_damping_trend\",\n",
    "    ]\n",
    "]\n",
    "ets_prod1_results.columns = (\n",
    "    \"rmse\",\n",
    "    \"trend\",\n",
    "    \"seasonal\",\n",
    "    \"seasonal_periods\",\n",
    "    \"damped_trend\",\n",
    "    \"boxcox\",\n",
    "    \"alpha\",\n",
    "    \"beta\",\n",
    "    \"gamma\",\n",
    "    \"damping_trend\",\n",
    ")\n",
    "ets_prod1_results.head(5)"
   ]
  },
  {
   "cell_type": "markdown",
   "id": "4f3cc94a",
   "metadata": {},
   "source": [
    "### producto 2"
   ]
  },
  {
   "cell_type": "code",
   "execution_count": null,
   "id": "ecdcda56",
   "metadata": {},
   "outputs": [],
   "source": [
    "# Inicializamos parametros para evaluación por ventana recursiva (expansiva)\n",
    "test_init = \"2024-01-01\"\n",
    "test_finish = \"2024-06-01\"\n",
    "window_type = \"rolling\"\n",
    "train_size = (12*5) # 5 años\n",
    "test_size = 1\n",
    "metric = \"rmse\"\n",
    "\n",
    "# Optimizamos el modelo ETS usando Optuna\n",
    "study, best_params, rmse_movil = optimizar_modelo_ets(\n",
    "    df_producto2_evaluacion,\n",
    "    test_init,\n",
    "    test_finish,\n",
    "    window_type,\n",
    "    train_size,\n",
    "    test_size,\n",
    "    metric,\n",
    "    opt_trial=500,\n",
    ")\n"
   ]
  },
  {
   "cell_type": "code",
   "execution_count": null,
   "id": "1629f86f",
   "metadata": {},
   "outputs": [],
   "source": [
    "ets_prod2_results = study.trials_dataframe()\n",
    "ets_prod2_results.sort_values(by=\"value\", ascending=True, inplace=True)\n",
    "ets_prod2_results = ets_prod2_results[\n",
    "    [\n",
    "        \"value\",\n",
    "        \"params_trend\",\n",
    "        \"params_seasonal\",\n",
    "        \"params_seasonal_periods\",\n",
    "        \"params_damped_trend\",\n",
    "        \"params_use_box_cox\",\n",
    "        \"params_smoothing_level\",\n",
    "        \"params_smoothing_trend\",\n",
    "        \"params_smoothing_seasonal\",\n",
    "        \"params_damping_trend\",\n",
    "    ]\n",
    "]\n",
    "ets_prod2_results.columns = (\n",
    "    \"rmse\",\n",
    "    \"trend\",\n",
    "    \"seasonal\",\n",
    "    \"seasonal_periods\",\n",
    "    \"damped_trend\",\n",
    "    \"boxcox\",\n",
    "    \"alpha\",\n",
    "    \"beta\",\n",
    "    \"gamma\",\n",
    "    \"damping_trend\",\n",
    ")\n",
    "ets_prod2_results.head(5)"
   ]
  },
  {
   "cell_type": "markdown",
   "id": "592c7a32",
   "metadata": {},
   "source": [
    "## ARIMA models"
   ]
  },
  {
   "cell_type": "markdown",
   "id": "39e55649",
   "metadata": {},
   "source": [
    "### Producto 1"
   ]
  },
  {
   "cell_type": "code",
   "execution_count": null,
   "id": "ee94ba3b",
   "metadata": {},
   "outputs": [],
   "source": [
    "# Funcion para ajustar modelos ARIMA con evaluación por ventana\n",
    "arima_prod1_results = ajustar_modelos_arima(\n",
    "    df=df_producto1_evaluacion,\n",
    "    test_init=\"2024-01-01\",\n",
    "    test_finish=\"2024-06-01\",\n",
    "    p_range=range(0,8),\n",
    "    d_range=range(0,3),\n",
    "    q_range=range(0,8),\n",
    ")\n",
    "\n",
    "# Función para validar supuestos de ARIMA\n",
    "arima_prod1_results = validar_supuestos_df(df_producto1_evaluacion, arima_prod1_results, \"ARIMA\", alpha=0.05)\n",
    "arima_prod1_results = arima_prod1_results[arima_prod1_results[\"validar_supuestos\"] == True].drop(columns=[\"validar_supuestos\"]).sort_values(by=\"rmse\", ascending=True)\n",
    "arima_prod1_results.head(5)"
   ]
  },
  {
   "cell_type": "markdown",
   "id": "baff276d",
   "metadata": {},
   "source": [
    "### Producto 2"
   ]
  },
  {
   "cell_type": "code",
   "execution_count": null,
   "id": "474b27dc",
   "metadata": {},
   "outputs": [],
   "source": [
    "arima_prod2_results = ajustar_modelos_arima(\n",
    "    df=df_producto2_evaluacion,\n",
    "    test_init=\"2024-01-01\",\n",
    "    test_finish=\"2024-06-01\",\n",
    "    p_range=range(0,8),\n",
    "    d_range=range(0,3),\n",
    "    q_range=range(0,8),\n",
    ")\n",
    "\n",
    "arima_prod2_results = validar_supuestos_df(df_producto2_evaluacion, arima_prod2_results, \"ARIMA\", alpha=0.05)\n",
    "arima_prod2_results = arima_prod2_results[arima_prod2_results[\"validar_supuestos\"] == True].drop(columns=[\"validar_supuestos\"]).sort_values(by=\"rmse\", ascending=True)\n",
    "arima_prod2_results.head(5)"
   ]
  },
  {
   "cell_type": "markdown",
   "id": "4235884f",
   "metadata": {},
   "source": [
    "## Mean Average models"
   ]
  },
  {
   "cell_type": "markdown",
   "id": "62eb852b",
   "metadata": {},
   "source": [
    "### Producto 1"
   ]
  },
  {
   "cell_type": "code",
   "execution_count": null,
   "id": "a7c0bf57",
   "metadata": {},
   "outputs": [],
   "source": [
    "ma_prod1_results = pd.DataFrame(columns=[\"size\", \"rmse\"])\n",
    "\n",
    "# Evaluamos el modelo MA para diferentes tamaños de ventana \n",
    "for size in range(2,12):\n",
    "    fit_params = {\"window_size\":size, \"horizon\":1}\n",
    "\n",
    "    metric = evalua_modelo_ST_por_ventana(\n",
    "        index_name=\"fecha\",\n",
    "        model_type=\"MA\",\n",
    "        init_params={},\n",
    "        fit_params=fit_params,\n",
    "        data=df_producto1_evaluacion,\n",
    "        test_init=\"2024-01-01\",\n",
    "        test_finish=\"2024-06-01\",\n",
    "        window_type=\"rolling\",\n",
    "        train_size=12 * 5,  # 5 años\n",
    "        test_size=1,\n",
    "        metric=\"rmse\",\n",
    "    )\n",
    "\n",
    "    result = pd.DataFrame(\n",
    "        {\n",
    "            \"size\": size,\n",
    "            \"rmse\": metric,\n",
    "        }, index=[0]\n",
    "    )\n",
    "\n",
    "    ma_prod1_results = pd.concat([ma_prod1_results, result], ignore_index=True)\n",
    "\n",
    "ma_prod1_results.sort_values(by=\"rmse\", ascending=True, inplace=True)\n",
    "ma_prod1_results"
   ]
  },
  {
   "cell_type": "markdown",
   "id": "aa2f173e",
   "metadata": {},
   "source": [
    "### Producto 2"
   ]
  },
  {
   "cell_type": "code",
   "execution_count": null,
   "id": "a7796c60",
   "metadata": {},
   "outputs": [],
   "source": [
    "ma_prod2_results = pd.DataFrame(columns=[\"size\", \"rmse\"])\n",
    "\n",
    "# Evaluamos el modelo MA para diferentes tamaños de ventana \n",
    "for size in range(2,12):\n",
    "    fit_params = {\"window_size\":size, \"horizon\":1}\n",
    "\n",
    "    metric = evalua_modelo_ST_por_ventana(\n",
    "        index_name=\"fecha\",\n",
    "        model_type=\"MA\",\n",
    "        init_params={},\n",
    "        fit_params=fit_params,\n",
    "        data=df_producto2_evaluacion,\n",
    "        test_init=\"2024-01-01\",\n",
    "        test_finish=\"2024-06-01\",\n",
    "        window_type=\"rolling\",\n",
    "        train_size=12 * 5,  # 5 años\n",
    "        test_size=1,\n",
    "        metric=\"rmse\",\n",
    "    )\n",
    "\n",
    "    result = pd.DataFrame(\n",
    "        {\n",
    "            \"size\": size,\n",
    "            \"rmse\": metric,\n",
    "        }, index=[0]\n",
    "    )\n",
    "\n",
    "    ma_prod2_results = pd.concat([ma_prod2_results, result], ignore_index=True)\n",
    "\n",
    "ma_prod2_results.sort_values(by=\"rmse\", ascending=True, inplace=True)\n",
    "ma_prod2_results"
   ]
  },
  {
   "cell_type": "markdown",
   "id": "53628fb6",
   "metadata": {},
   "source": [
    "## RLM models"
   ]
  },
  {
   "cell_type": "code",
   "execution_count": null,
   "id": "6e3f7eac",
   "metadata": {},
   "outputs": [],
   "source": []
  },
  {
   "cell_type": "markdown",
   "id": "b6945343",
   "metadata": {},
   "source": [
    "## Prophet"
   ]
  },
  {
   "cell_type": "code",
   "execution_count": null,
   "id": "faacbb07",
   "metadata": {},
   "outputs": [],
   "source": []
  },
  {
   "cell_type": "code",
   "execution_count": null,
   "id": "b373f2a6",
   "metadata": {},
   "outputs": [],
   "source": []
  },
  {
   "cell_type": "code",
   "execution_count": null,
   "id": "f3089f97",
   "metadata": {},
   "outputs": [],
   "source": []
  },
  {
   "cell_type": "code",
   "execution_count": null,
   "id": "23331600",
   "metadata": {},
   "outputs": [],
   "source": []
  },
  {
   "cell_type": "markdown",
   "id": "d37531bf",
   "metadata": {},
   "source": [
    "# Next"
   ]
  },
  {
   "cell_type": "code",
   "execution_count": null,
   "id": "cb7eb800",
   "metadata": {},
   "outputs": [],
   "source": [
    "# # creamos el diccionario de parametros para inicializar el modelo ETS\n",
    "#         init_params = {\n",
    "#             \"trend\": trend,\n",
    "#             \"damped_trend\": damped_trend,\n",
    "#             \"seasonal\": seasonal,\n",
    "#             \"seasonal_periods\": seasonal_periods,\n",
    "#             \"use_boxcox\": use_box_cox,\n",
    "#         }\n",
    "\n",
    "#         # Creamos el diccionario de parametros para ajustar el modelo ETS\n",
    "#         fit_params = {\n",
    "#             \"smoothing_level\": slevel,\n",
    "#             \"smoothing_trend\": strend,\n",
    "#             \"smoothing_seasonal\": sseasonal,\n",
    "#             \"damping_trend\": damping_value,\n",
    "#         }\n"
   ]
  }
 ],
 "metadata": {
  "kernelspec": {
   "display_name": "maestria",
   "language": "python",
   "name": "python3"
  },
  "language_info": {
   "codemirror_mode": {
    "name": "ipython",
    "version": 3
   },
   "file_extension": ".py",
   "mimetype": "text/x-python",
   "name": "python",
   "nbconvert_exporter": "python",
   "pygments_lexer": "ipython3",
   "version": "3.13.2"
  }
 },
 "nbformat": 4,
 "nbformat_minor": 5
}
